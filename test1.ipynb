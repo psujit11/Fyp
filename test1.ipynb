{
 "cells": [
  {
   "cell_type": "code",
   "execution_count": 3,
   "metadata": {},
   "outputs": [
    {
     "name": "stdout",
     "output_type": "stream",
     "text": [
      "toxic: 1.0\n",
      "obscene: 1.0\n",
      "insult: 1.0\n"
     ]
    }
   ],
   "source": [
    "import numpy as np\n",
    "import joblib\n",
    "from nltk.stem import WordNetLemmatizer, PorterStemmer\n",
    "from nltk.corpus import stopwords\n",
    "import string\n",
    "\n",
    "# Define the MyBinaryRelevance class here or import it if it's defined in another module\n",
    "class MyBinaryRelevance:\n",
    "    def __init__(self, classifier, max_iterations=10):\n",
    "        self.classifier = classifier\n",
    "        self.models = []\n",
    "        self.max_iterations = max_iterations\n",
    "        self.history = {\"loss\": []} # Initialize history dictionary\n",
    "\n",
    "    def fit(self, X_train, Y_train):\n",
    "        num_labels = Y_train.shape[1]\n",
    "\n",
    "        for i in range(num_labels):\n",
    "            model = self.classifier(kernel='linear')\n",
    "            model.fit(X_train, Y_train[:, i])\n",
    "            self.models.append(model)\n",
    "\n",
    "            if i + 1 == self.max_iterations:\n",
    "                break\n",
    "\n",
    "    def predict(self, X_test):\n",
    "        predictions = np.zeros((X_test.shape[0], len(self.models)))\n",
    "\n",
    "        for i, model in enumerate(self.models):\n",
    "            predictions[:, i] = model.predict(X_test)\n",
    "\n",
    "        return predictions\n",
    "\n",
    "# Load the saved model\n",
    "loaded_classifier = joblib.load(\"svm_model.joblib\")\n",
    "\n",
    "# Load the CountVectorizer used for training\n",
    "count_vector = joblib.load(\"count_vector.joblib\")\n",
    "\n",
    "# Preprocess the new comment\n",
    "new_comment = \"you fucking stupid dwarf \"\n",
    "\n",
    "# Initialize the lemmatizer and stemmer\n",
    "lemmatizer = WordNetLemmatizer()\n",
    "stemmer = PorterStemmer()\n",
    "\n",
    "# Remove punctuation and convert to lowercase\n",
    "new_comment = new_comment.lower().translate(str.maketrans('', '', string.punctuation))\n",
    "\n",
    "# Remove stop words and apply stemming and lemmatization\n",
    "stop_words = set(stopwords.words('english'))\n",
    "word_list = []\n",
    "for word in new_comment.split():\n",
    "    if word not in stop_words:\n",
    "        word_list.append(stemmer.stem(lemmatizer.lemmatize(word, pos=\"v\")))\n",
    "new_comment = \" \".join(word_list)\n",
    "\n",
    "# Vectorize the new comment\n",
    "new_comment_vectorized = count_vector.transform([new_comment]).toarray()\n",
    "\n",
    "# Use the loaded model for prediction\n",
    "predictions_svm = loaded_classifier.predict(new_comment_vectorized)\n",
    "\n",
    "# Display the predictions\n",
    "label_plot = ['toxic', 'obscene', 'insult']\n",
    "for i, label in enumerate(label_plot):\n",
    "    print(f\"{label}: {predictions_svm[0, i]}\")\n"
   ]
  },
  {
   "cell_type": "code",
   "execution_count": null,
   "metadata": {},
   "outputs": [],
   "source": []
  },
  {
   "cell_type": "code",
   "execution_count": null,
   "metadata": {},
   "outputs": [],
   "source": []
  }
 ],
 "metadata": {
  "kernelspec": {
   "display_name": "project",
   "language": "python",
   "name": "python3"
  },
  "language_info": {
   "codemirror_mode": {
    "name": "ipython",
    "version": 3
   },
   "file_extension": ".py",
   "mimetype": "text/x-python",
   "name": "python",
   "nbconvert_exporter": "python",
   "pygments_lexer": "ipython3",
   "version": "3.11.0"
  }
 },
 "nbformat": 4,
 "nbformat_minor": 2
}
